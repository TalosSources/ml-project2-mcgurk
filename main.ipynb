{
 "cells": [
  {
   "cell_type": "markdown",
   "metadata": {},
   "source": [
    "# Testing the McGurk effect on Machine Learning models\n",
    "\n",
    "### Defining the McGurk effect experiments"
   ]
  },
  {
   "cell_type": "code",
   "execution_count": 11,
   "metadata": {},
   "outputs": [],
   "source": [
    "from experiments import McGurkExperiment\n",
    "\n",
    "# Instantiate the list of experiments\n",
    "experiments = [\n",
    "    McGurkExperiment(\"ba\", \"ga\", \"da\"), # ba (auditory) + ga (visual) = da  (fusioned sound)\n",
    "    McGurkExperiment(\"ba\", \"fa\", \"va\"), # ba (auditory) + fa (visual) = va  (fusioned sound)\n",
    "    McGurkExperiment(\"ga\", \"ba\", \"bga\") # ga (auditory) + ba (visual) = bga (combined sound)\n",
    "]"
   ]
  },
  {
   "cell_type": "markdown",
   "metadata": {},
   "source": [
    "### Ensuring reproducible experiment results"
   ]
  },
  {
   "cell_type": "code",
   "execution_count": 12,
   "metadata": {},
   "outputs": [],
   "source": [
    "# Set the seeds for the experiments to ensure reproducible results\n",
    "import torch\n",
    "import random\n",
    "import numpy as np\n",
    "import os\n",
    "seed = 0\n",
    "random.seed(seed)\n",
    "os.environ['PYTHONHASHSEED'] = str(seed)\n",
    "np.random.seed(seed)\n",
    "torch.manual_seed(seed)\n",
    "torch.cuda.manual_seed(seed)\n",
    "torch.cuda.manual_seed_all(seed)\n",
    "torch.backends.cudnn.deterministic = True\n",
    "torch.backends.cudnn.benchmark = False\n",
    "torch.backends.cudnn.enabled = False"
   ]
  },
  {
   "cell_type": "markdown",
   "metadata": {},
   "source": [
    "## Testing the effect on pretrained PerceiverIO models with regression mapping"
   ]
  },
  {
   "cell_type": "markdown",
   "metadata": {},
   "source": [
    "### Training the models"
   ]
  },
  {
   "cell_type": "code",
   "execution_count": 13,
   "metadata": {},
   "outputs": [
    {
     "name": "stdout",
     "output_type": "stream",
     "text": [
      "Perceiver model for experiment ba (auditory syllable) + ga (visual syllable) = da (expected McGurk syllable)\n"
     ]
    },
    {
     "name": "stderr",
     "output_type": "stream",
     "text": [
      "                                                                                                    \r"
     ]
    },
    {
     "name": "stdout",
     "output_type": "stream",
     "text": [
      "Training accuracy: 100.0%\n",
      "Perceiver model for experiment ba (auditory syllable) + fa (visual syllable) = va (expected McGurk syllable)\n"
     ]
    },
    {
     "name": "stderr",
     "output_type": "stream",
     "text": [
      "                                                                                                    \r"
     ]
    },
    {
     "name": "stdout",
     "output_type": "stream",
     "text": [
      "Training accuracy: 100.0%\n",
      "Perceiver model for experiment ga (auditory syllable) + ba (visual syllable) = bga (expected McGurk syllable)\n"
     ]
    },
    {
     "name": "stderr",
     "output_type": "stream",
     "text": [
      "                                                                                                    "
     ]
    },
    {
     "name": "stdout",
     "output_type": "stream",
     "text": [
      "Training accuracy: 100.0%\n"
     ]
    },
    {
     "name": "stderr",
     "output_type": "stream",
     "text": [
      "\r"
     ]
    }
   ],
   "source": [
    "from models import McGurkPerceiver\n",
    "\n",
    "perceiver_models = []\n",
    "for experiment in experiments:\n",
    "    # Instantiate a Perceiver model for the given experiment\n",
    "    model = McGurkPerceiver(experiment)\n",
    "    perceiver_models.append(model)\n",
    "\n",
    "for model in perceiver_models:\n",
    "    print(model.name())\n",
    "    # Train the models\n",
    "    _, _, _, _ = model.train(epochs=100000, learning_rate=0.003, train_with_masks=True)"
   ]
  },
  {
   "cell_type": "markdown",
   "metadata": {},
   "source": [
    "### Generating the predictions"
   ]
  },
  {
   "cell_type": "code",
   "execution_count": 15,
   "metadata": {},
   "outputs": [
    {
     "name": "stdout",
     "output_type": "stream",
     "text": [
      "Perceiver model for experiment ba (auditory syllable) + ga (visual syllable) = da (expected McGurk syllable)\n"
     ]
    },
    {
     "name": "stderr",
     "output_type": "stream",
     "text": [
      "                                                                                                               \r"
     ]
    },
    {
     "name": "stdout",
     "output_type": "stream",
     "text": [
      "[5.8212752e-08 9.9684441e-01 3.1555758e-03]\n",
      "Perceiver model for experiment ba (auditory syllable) + fa (visual syllable) = va (expected McGurk syllable)\n"
     ]
    },
    {
     "name": "stderr",
     "output_type": "stream",
     "text": [
      "                                                                                                             \r"
     ]
    },
    {
     "name": "stdout",
     "output_type": "stream",
     "text": [
      "[5.8234042e-07 9.9999934e-01 2.7832714e-08]\n",
      "Perceiver model for experiment ga (auditory syllable) + ba (visual syllable) = bga (expected McGurk syllable)\n"
     ]
    },
    {
     "name": "stderr",
     "output_type": "stream",
     "text": [
      "                                                                                                             "
     ]
    },
    {
     "name": "stdout",
     "output_type": "stream",
     "text": [
      "[1.8162082e-08 1.0000000e+00 1.6728331e-09]\n"
     ]
    },
    {
     "name": "stderr",
     "output_type": "stream",
     "text": [
      "\r"
     ]
    }
   ],
   "source": [
    "models_predictions_avg = []\n",
    "\n",
    "# Test the models on McGurk effect videos\n",
    "for model in perceiver_models:\n",
    "    print(model.name())\n",
    "    predictions = model.test()\n",
    "    # Average the predictions\n",
    "    predictions_avg = predictions.detach().numpy().mean(axis=0)\n",
    "    print(predictions_avg)\n",
    "    models_predictions_avg.append(predictions_avg)\n",
    "\n",
    "# Convert the list to a numpy array\n",
    "models_predictions_avg = np.array(model_predictions_avg)"
   ]
  },
  {
   "cell_type": "markdown",
   "metadata": {},
   "source": [
    "### Results"
   ]
  },
  {
   "cell_type": "code",
   "execution_count": null,
   "metadata": {},
   "outputs": [
    {
     "data": {
      "image/png": "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",
      "text/plain": [
       "<Figure size 600x400 with 1 Axes>"
      ]
     },
     "metadata": {},
     "output_type": "display_data"
    }
   ],
   "source": [
    "import matplotlib.pyplot as plt\n",
    "import numpy as np\n",
    "\n",
    "# TODO: Plot the average confidence scores for each normal sample of each experiment -> If possible, with test set\n",
    "# TODO: Plot also for McGurk samples\n",
    "for prediction in model_predictions:\n",
    "    # prediction will be a (n_samples, 3) sized tensor\n",
    "    average_confidence = torch.mean(prediction, dim=0)\n",
    "    auditory_confidence, visual_confidence, mcgurk_confidence = [float(c) for c in average_confidence]\n",
    "    print(f\"average auditory : {auditory_confidence}\")\n",
    "    print(f\"average visual : {visual_confidence}\")\n",
    "    print(f\"average mcgurk : {mcgurk_confidence}\")\n",
    "    \n",
    "    \n",
    "\n",
    "# also maybe TODO: plot the confidence increase from normal samples to mcgurk samples for the mcgurk syllable (if it's interesting) -> maybe on a logscale\n",
    "# and #TODO at home with PC, test my shiny aggregate function, and the masked pipeline, and many steps and aggresive learning rate "
    "# Plot the average confidence scores for each sound of each experiment\n",
    "fig, ax = plt.subplots(figsize=(6, 4), constrained_layout=True)\n",
    "\n",
    "# Define the axises labels and plot title\n",
    "#ax.set_title('Average confidence scores per syllable for each experiment')\n",
    "ax.set_xlabel('Experiment')\n",
    "ax.set_ylabel('Average confidence score per syllable')\n",
    "\n",
    "# Define bars for each type of syllables\n",
    "ind = np.arange(len(experiments))  # the x locations for the groups\n",
    "width = 0.3\n",
    "plt.bar(ind - width, model_predictions_avg[:,0], width, label='Auditory syllable')\n",
    "plt.bar(ind, model_predictions_avg[:,1], width, label='Visual syllable')\n",
    "plt.bar(ind + width, model_predictions_avg[:,2], width, label='McGurk effect syllable')\n",
    "\n",
    "plt.xticks(ind + width / 2, (experiments[0].to_str(), experiments[1].to_str(), experiments[2].to_str()))\n",
    "plt.legend(bbox_to_anchor=(1.1, 0.5), loc='center left')\n",
    "plt.yscale('log')\n",
    "plt.show()"
   ]
  }
 ],
 "metadata": {
  "kernelspec": {
   "display_name": "base",
   "language": "python",
   "name": "python3"
  },
  "language_info": {
   "codemirror_mode": {
    "name": "ipython",
    "version": 3
   },
   "file_extension": ".py",
   "mimetype": "text/x-python",
   "name": "python",
   "nbconvert_exporter": "python",
   "pygments_lexer": "ipython3",
   "version": "3.10.13"
  },
  "orig_nbformat": 4
 },
 "nbformat": 4,
 "nbformat_minor": 2
}

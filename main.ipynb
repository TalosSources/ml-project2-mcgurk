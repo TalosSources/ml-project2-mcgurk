{
 "cells": [
  {
   "cell_type": "markdown",
   "metadata": {},
   "source": [
    "# Testing the McGurk effect on Machine Learning models\n",
    "\n",
    "### Defining the McGurk effect experiments"
   ]
  },
  {
   "cell_type": "code",
   "execution_count": null,
   "metadata": {},
   "outputs": [],
   "source": [
    "from experiments import McGurkExperiment\n",
    "\n",
    "# Instantiate the list of experiments\n",
    "experiments = [\n",
    "    McGurkExperiment(\"ba\", \"ga\", \"da\"), # ba (auditory) + ga (visual) = da  (fusioned sound)\n",
    "    #McGurkExperiment(\"ba\", \"fa\", \"va\"), # ba (auditory) + fa (visual) = va  (fusioned sound)\n",
    "    #McGurkExperiment(\"ga\", \"ba\", \"bga\") # ga (auditory) + ba (visual) = bga (combined sound)\n",
    "]\n",
    "masked_experiment = False"
   ]
  },
  {
   "cell_type": "markdown",
   "metadata": {},
   "source": [
    "### Ensuring reproducible experiment results"
   ]
  },
  {
   "cell_type": "code",
   "execution_count": null,
   "metadata": {},
   "outputs": [],
   "source": [
    "# Set the seeds for the experiments to ensure reproducible results\n",
    "import torch\n",
    "torch.manual_seed(42)\n",
    "import random\n",
    "random.seed(0)\n",
    "import numpy as np\n",
    "np.random.seed(0)"
   ]
  },
  {
   "cell_type": "markdown",
   "metadata": {},
   "source": [
    "## Testing the effect on pretrained PerceiverIO models with regression mapping"
   ]
  },
  {
   "cell_type": "markdown",
   "metadata": {},
   "source": [
    "### Training the models"
   ]
  },
  {
   "cell_type": "code",
   "execution_count": null,
   "metadata": {},
   "outputs": [],
   "source": [
    "from models import McGurkPerceiver\n",
    "\n",
    "perceiver_models = []\n",
    "for experiment in experiments:\n",
    "    # Instantiate a Perceiver model for the given experiment\n",
    "    model = McGurkPerceiver(experiment)\n",
    "    perceiver_models.append(model)\n",
    "\n",
    "for model in perceiver_models:\n",
    "    print(model.name())\n",
    "    # Train the models\n",
    "    _, _, _, _ = model.train(epochs=4000, learning_rate=0.002, train_with_masks=masked_experiment)"
   ]
  },
  {
   "cell_type": "markdown",
   "metadata": {},
   "source": [
    "### Testing the model on normal samples"
   ]
  },
  {
   "cell_type": "code",
   "execution_count": null,
   "metadata": {},
   "outputs": [],
   "source": [
    "testing_results = []\n",
    "for model in perceiver_models:\n",
    "    print(model.name())\n",
    "    if masked_experiment:\n",
    "        average_a, average_v, average_av = model.test(test_with_masks=masked_experiment)\n",
    "        print(f\"A TESTS : {auditory_tests}\")\n",
    "        print(f\"V TESTS : {visual_tests}\")\n",
    "        print(f\"MG TESTS : {mcgurk_tests}\")\n",
    "        testing_results.append((average_a, average_v, average_av))\n",
    "    else:\n",
    "        correct, mcgurk = model.test(test_with_masks=masked_experiment)\n",
    "        testing_results.append((float(correct), float(mcgurk)))\n",
    "\n",
    "print(testing_results)"
   ]
  },
  {
   "cell_type": "markdown",
   "metadata": {},
   "source": [
    "### Generating the McGurk predictions"
   ]
  },
  {
   "cell_type": "code",
   "execution_count": null,
   "metadata": {},
   "outputs": [],
   "source": [
    "model_predictions_avg = []\n",
    "\n",
    "# Test the models on McGurk effect videos\n",
    "for model in perceiver_models:\n",
    "    print(model.name())\n",
    "    predictions = model.test_mcgurk()\n",
    "    # Average the predictions\\n\",\n",
    "    predictions_avg = predictions.cpu().detach().numpy().mean(axis=0)\n",
    "    print(predictions_avg)\n",
    "    model_predictions_avg.append(predictions_avg)\n",
    "\n",
    "# Convert the list to a numpy array\n",
    "model_predictions_avg = np.array(model_predictions_avg)"
   ]
  },
  {
   "cell_type": "markdown",
   "metadata": {},
   "source": [
    "### Results"
   ]
  },
  {
   "cell_type": "code",
   "execution_count": null,
   "metadata": {},
   "outputs": [],
   "source": [
    "plot_mcgurk_confidences()"
   ]
  }
 ],
 "metadata": {
  "kernelspec": {
   "display_name": "base",
   "language": "python",
   "name": "python3"
  },
  "language_info": {
   "codemirror_mode": {
    "name": "ipython",
    "version": 3
   },
   "file_extension": ".py",
   "mimetype": "text/x-python",
   "name": "python",
   "nbconvert_exporter": "python",
   "pygments_lexer": "ipython3",
   "version": "3.10.13"
  },
  "orig_nbformat": 4
 },
 "nbformat": 4,
 "nbformat_minor": 2
}

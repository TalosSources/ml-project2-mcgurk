{
 "cells": [
  {
   "cell_type": "markdown",
   "metadata": {},
   "source": [
    "# Testing the McGurk effect on Machine Learning models\n",
    "\n",
    "### Defining the McGurk effect experiments"
   ]
  },
  {
   "cell_type": "code",
   "execution_count": null,
   "metadata": {},
   "outputs": [],
   "source": [
    "from experiments import McGurkExperiment\n",
    "\n",
    "# Instantiate the list of experiments\n",
    "experiments = [\n",
    "    McGurkExperiment(\"ba\", \"ga\", \"da\"), # ba (auditory) + ga (visual) = da  (fusioned sound)\n",
    "    McGurkExperiment(\"ba\", \"fa\", \"va\"), # ba (auditory) + fa (visual) = va  (fusioned sound)\n",
    "    McGurkExperiment(\"ga\", \"ba\", \"bga\") # ga (auditory) + ba (visual) = bga (combined sound)\n",
    "]"
   ]
  },
  {
   "cell_type": "markdown",
   "metadata": {},
   "source": [
    "### Ensuring reproducible experiment results"
   ]
  },
  {
   "cell_type": "code",
   "execution_count": null,
   "metadata": {},
   "outputs": [],
   "source": [
    "# Set the seeds for the experiments to ensure reproducible results\n",
    "import torch\n",
    "torch.manual_seed(42)\n",
    "import random\n",
    "random.seed(0)\n",
    "import numpy as np\n",
    "np.random.seed(0)"
   ]
  },
  {
   "cell_type": "markdown",
   "metadata": {},
   "source": [
    "## Testing the effect on pretrained PerceiverIO models with regression mapping"
   ]
  },
  {
   "cell_type": "markdown",
   "metadata": {},
   "source": [
    "### Training the models"
   ]
  },
  {
   "cell_type": "code",
   "execution_count": null,
   "metadata": {},
   "outputs": [],
   "source": [
    "from models import McGurkPerceiver\n",
    "\n",
    "perceiver_models = []\n",
    "for experiment in experiments:\n",
    "    # Instantiate a Perceiver model for the given experiment\n",
    "    model = McGurkPerceiver(experiment)\n",
    "    perceiver_models.append(model)\n",
    "\n",
    "for model in perceiver_models:\n",
    "    print(model.name())\n",
    "    # Train the models\n",
    "    _, _, _, _ = model.train(epochs=100000, learning_rate=0.003, train_with_masks=True)"
   ]
  },
  {
   "cell_type": "markdown",
   "metadata": {},
   "source": [
    "### Generating the predictions"
   ]
  },
  {
   "cell_type": "code",
   "execution_count": null,
   "metadata": {},
   "outputs": [],
   "source": [
    "model_predictions = []\n",
    "\n",
    "# Test the models on McGurk effect videos\n",
    "for model in perceiver_models:\n",
    "    print(model.name())\n",
    "    predictions = model.test()\n",
    "    model_predictions.append(predictions)\n",
    "    # Print the results\n",
    "    print(predictions)"
   ]
  },
  {
   "cell_type": "markdown",
   "metadata": {},
   "source": [
    "### Results"
   ]
  },
  {
   "cell_type": "code",
   "execution_count": null,
   "metadata": {},
   "outputs": [],
   "source": [
    "import matplotlib.pyplot as plt\n",
    "import numpy as np\n",
    "\n",
    "# TODO: Plot the average confidence scores for each normal sample of each experiment -> If possible, with test set\n",
    "# TODO: Plot also for McGurk samples\n",
    "for prediction in model_predictions:\n",
    "    # prediction will be a (n_samples, 3) sized tensor\n",
    "    average_confidence = torch.mean(prediction, dim=0)\n",
    "    auditory_confidence, visual_confidence, mcgurk_confidence = [float(c) for c in average_confidence]\n",
    "    print(f\"average auditory : {auditory_confidence}\")\n",
    "    print(f\"average visual : {visual_confidence}\")\n",
    "    print(f\"average mcgurk : {mcgurk_confidence}\")\n",
    "    \n",
    "    \n",
    "\n",
    "# also maybe TODO: plot the confidence increase from normal samples to mcgurk samples for the mcgurk syllable (if it's interesting) -> maybe on a logscale\n",
    "# and #TODO at home with PC, test my shiny aggregate function, and the masked pipeline, and many steps and aggresive learning rate "
   ]
  }
 ],
 "metadata": {
  "kernelspec": {
   "display_name": "base",
   "language": "python",
   "name": "python3"
  },
  "language_info": {
   "codemirror_mode": {
    "name": "ipython",
    "version": 3
   },
   "file_extension": ".py",
   "mimetype": "text/x-python",
   "name": "python",
   "nbconvert_exporter": "python",
   "pygments_lexer": "ipython3",
   "version": "3.10.13"
  },
  "orig_nbformat": 4
 },
 "nbformat": 4,
 "nbformat_minor": 2
}

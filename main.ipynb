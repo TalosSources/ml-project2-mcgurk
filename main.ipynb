{
 "cells": [
  {
   "cell_type": "markdown",
   "metadata": {},
   "source": [
    "# Testing the McGurk effect on Machine Learning models\n",
    "\n",
    "### Defining the McGurk effect experiments"
   ]
  },
  {
   "cell_type": "code",
   "execution_count": null,
   "metadata": {},
   "outputs": [],
   "source": [
    "from experiments import McGurkExperiment\n",
    "\n",
    "# Instantiate the list of experiments\n",
    "experiments = [\n",
    "    McGurkExperiment(\"ba\", \"ga\", \"da\"), # ba (auditory) + ga (visual) = da  (fusioned sound)\n",
    "    #McGurkExperiment(\"ba\", \"fa\", \"va\"), # ba (auditory) + fa (visual) = va  (fusioned sound)\n",
    "    #McGurkExperiment(\"ga\", \"ba\", \"bga\") # ga (auditory) + ba (visual) = bga (combined sound)\n",
    "]\n",
    "masked_experiment = False"
   ]
  },
  {
   "cell_type": "markdown",
   "metadata": {},
   "source": [
    "### Ensuring reproducible experiment results"
   ]
  },
  {
   "cell_type": "code",
   "execution_count": null,
   "metadata": {},
   "outputs": [],
   "source": [
    "# Set the seeds for the experiments to ensure reproducible results\n",
    "import torch\n",
    "torch.manual_seed(42)\n",
    "import random\n",
    "random.seed(0)\n",
    "import numpy as np\n",
    "np.random.seed(0)"
   ]
  },
  {
   "cell_type": "markdown",
   "metadata": {},
   "source": [
    "## Testing the effect on pretrained PerceiverIO models with regression mapping"
   ]
  },
  {
   "cell_type": "markdown",
   "metadata": {},
   "source": [
    "### Training the models"
   ]
  },
  {
   "cell_type": "code",
   "execution_count": null,
   "metadata": {},
   "outputs": [],
   "source": [
    "from models import McGurkPerceiver\n",
    "\n",
    "perceiver_models = []\n",
    "for experiment in experiments:\n",
    "    # Instantiate a Perceiver model for the given experiment\n",
    "    model = McGurkPerceiver(experiment)\n",
    "    perceiver_models.append(model)\n",
    "\n",
    "for model in perceiver_models:\n",
    "    print(model.name())\n",
    "    # Train the models\n",
    "    _, _, _, _ = model.train(epochs=40000, learning_rate=0.002, train_with_masks=masked_experiment)"
   ]
  },
  {
   "cell_type": "markdown",
   "metadata": {},
   "source": [
    "### Testing the model on normal samples"
   ]
  },
  {
   "cell_type": "code",
   "execution_count": null,
   "metadata": {},
   "outputs": [],
   "source": [
    "testing_results = []\n",
    "for model in perceiver_models:\n",
    "    print(model.name())\n",
    "    if masked_experiment:\n",
    "        average_a, average_v, average_av = model.test(test_with_masks=masked_experiment)\n",
    "        print(f\"A TESTS : {auditory_tests}\")\n",
    "        print(f\"V TESTS : {visual_tests}\")\n",
    "        print(f\"MG TESTS : {mcgurk_tests}\")\n",
    "        testing_results.append((average_a, average_v, average_av))\n",
    "    else:\n",
    "        correct, mcgurk = model.test(test_with_masks=masked_experiment)\n",
    "        testing_results.append((float(correct), float(mcgurk)))\n",
    "\n",
    "print(testing_results)"
   ]
  },
  {
   "cell_type": "markdown",
   "metadata": {},
   "source": [
    "### Generating the McGurk predictions"
   ]
  },
  {
   "cell_type": "code",
   "execution_count": null,
   "metadata": {},
   "outputs": [],
   "source": [
    "model_predictions_avg = []\n",
    "\n",
    "# Test the models on McGurk effect videos\n",
    "for model in perceiver_models:\n",
    "    print(model.name())\n",
    "    predictions = model.test_mcgurk()\n",
    "    # Average the predictions\\n\",\n",
    "    predictions_avg = predictions.cpu().detach().numpy().mean(axis=0)\n",
    "    print(predictions_avg)\n",
    "    model_predictions_avg.append(predictions_avg)\n",
    "\n",
    "# Convert the list to a numpy array\n",
    "model_predictions_avg = np.array(model_predictions_avg)"
   ]
  },
  {
   "cell_type": "markdown",
   "metadata": {},
   "source": [
    "### Results"
   ]
  },
  {
   "cell_type": "code",
   "execution_count": null,
   "metadata": {},
   "outputs": [],
   "source": [
    "import matplotlib.pyplot as plt\n",
    "import numpy as np\n",
    "\n",
    "\n",
    "def plot_mcgurk_confidences():\n",
    "    # Plot the average confidence scores for each sound of each experiment\n",
    "    fig, ax = plt.subplots(figsize=(6, 4), constrained_layout=True)\n",
    "\n",
    "    # Define the axises labels and plot title\n",
    "    #ax.set_title('Average confidence scores per syllable for each experiment')\n",
    "    ax.set_xlabel('Experiment')\n",
    "    ax.set_ylabel('Average confidence score per syllable')\n",
    "\n",
    "    # Define bars for each type of syllables\n",
    "    ind = np.arange(len(experiments))  # the x locations for the groups\n",
    "    width = 0.3\n",
    "    plt.bar(ind - width, model_predictions_avg[:,0], width, label='Auditory syllable')\n",
    "    plt.bar(ind, model_predictions_avg[:,1], width, label='Visual syllable')\n",
    "    plt.bar(ind + width, model_predictions_avg[:,2], width, label='McGurk effect syllable')\n",
    "\n",
    "    plt.xticks(ind + width / 2, (experiments[0].to_str(), experiments[1].to_str(), experiments[2].to_str()))\n",
    "    plt.legend(bbox_to_anchor=(1.1, 0.5), loc='center left')\n",
    "    plt.yscale('log')\n",
    "    plt.show()\n",
    "\n",
    "def plot_test_confidences():\n",
    "    # certifies the model is potent at recognizing syllables\n",
    "    ...\n",
    "\n",
    "def plot_mgurk_confidence_increase():\n",
    "    # maybe, only if it's information rich\n",
    "    ...\n",
    "\n",
    "\n",
    "\n",
    "# TODO: Plot the average confidence scores for each normal sample of each experiment -> If possible, with test set\n",
    "# TODO: Plot also for McGurk samples\n",
    "# also maybe TODO: plot the confidence increase from normal samples to mcgurk samples for the mcgurk syllable (if it's interesting) -> maybe on a logscale\n",
    "# and #TODO at home with PC, test my shiny aggregate function, and the masked pipeline, and many steps and aggresive learning rate "
   ]
  }
 ],
 "metadata": {
  "kernelspec": {
   "display_name": "base",
   "language": "python",
   "name": "python3"
  },
  "language_info": {
   "codemirror_mode": {
    "name": "ipython",
    "version": 3
   },
   "file_extension": ".py",
   "mimetype": "text/x-python",
   "name": "python",
   "nbconvert_exporter": "python",
   "pygments_lexer": "ipython3",
   "version": "3.10.13"
  },
  "orig_nbformat": 4
 },
 "nbformat": 4,
 "nbformat_minor": 2
}
